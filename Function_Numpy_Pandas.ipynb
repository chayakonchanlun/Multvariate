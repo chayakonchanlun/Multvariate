{
  "nbformat": 4,
  "nbformat_minor": 0,
  "metadata": {
    "colab": {
      "name": "Function_Numpy_Pandas.ipynb",
      "provenance": [],
      "authorship_tag": "ABX9TyPjUt5DEREN6F+UVpWiboUG",
      "include_colab_link": true
    },
    "kernelspec": {
      "name": "python3",
      "display_name": "Python 3"
    }
  },
  "cells": [
    {
      "cell_type": "markdown",
      "metadata": {
        "id": "view-in-github",
        "colab_type": "text"
      },
      "source": [
        "<a href=\"https://colab.research.google.com/github/chayakonchanlun/Multvariate/blob/main/Function_Numpy_Pandas.ipynb\" target=\"_parent\"><img src=\"https://colab.research.google.com/assets/colab-badge.svg\" alt=\"Open In Colab\"/></a>"
      ]
    },
    {
      "cell_type": "markdown",
      "metadata": {
        "id": "5OKr1NQ0SnSt"
      },
      "source": [
        "Function"
      ]
    },
    {
      "cell_type": "markdown",
      "metadata": {
        "id": "bXiTfqyzTnJ6"
      },
      "source": [
        "เขียน def ตามด้วยชื่อฟังก์ชั่น"
      ]
    },
    {
      "cell_type": "code",
      "metadata": {
        "id": "HKrl8GouSLkq"
      },
      "source": [
        "def function name(input) :\r\n",
        "\r\n",
        "  do_something with  Input to produce Output\r\n",
        "\r\n",
        "  return Output"
      ],
      "execution_count": null,
      "outputs": []
    },
    {
      "cell_type": "markdown",
      "metadata": {
        "id": "ixTGS4wqTwq-"
      },
      "source": [
        "    function มีส่วนสำคัญทั้งหมด4ส่วน\r\n",
        "    1.บอก python ว่าเราจะเขียนฟังก์ชั่น ชื่ออะไร def function(): (ขาดไม่ได้)\r\n",
        "    2.กำหนดตัวแปรที่จะเป็น input input (ขาดไม่ได้)\r\n",
        "    3.ส่วนประมวลผล do_something with input to get output (ขาดไม่ได้)\r\n",
        "    4.ส่วน output return Output (ขาดไม่ได้) "
      ]
    },
    {
      "cell_type": "code",
      "metadata": {
        "id": "9Qxs_NSTTk8s"
      },
      "source": [
        "def print_name(name,surname,ID):\r\n",
        "    st=f'ชื่อ {name} นามสกุล {surname} ID {ID}'\r\n",
        "    return st\r\n",
        "    print('outside function')    "
      ],
      "execution_count": 15,
      "outputs": []
    },
    {
      "cell_type": "markdown",
      "metadata": {
        "id": "erNOO7pYWsdU"
      },
      "source": [
        "การเรียกใช้"
      ]
    },
    {
      "cell_type": "code",
      "metadata": {
        "colab": {
          "base_uri": "https://localhost:8080/",
          "height": 35
        },
        "id": "t9jKhf_9WJ6J",
        "outputId": "558d7586-a1b4-450e-da6d-cfeaadc12596"
      },
      "source": [
        "print_name('ชยากร','จันทร์ลุน','623020517-9')\r\n"
      ],
      "execution_count": 16,
      "outputs": [
        {
          "output_type": "execute_result",
          "data": {
            "application/vnd.google.colaboratory.intrinsic+json": {
              "type": "string"
            },
            "text/plain": [
              "'ชื่อ ชยากร นามสกุล จันทร์ลุน ID 623020517-9'"
            ]
          },
          "metadata": {
            "tags": []
          },
          "execution_count": 16
        }
      ]
    },
    {
      "cell_type": "markdown",
      "metadata": {
        "id": "3Yz26daTYJZr"
      },
      "source": [
        "ฟังก์ชั่นไม่จำเป็นต้องมี output "
      ]
    },
    {
      "cell_type": "code",
      "metadata": {
        "id": "tSmvOihBYzRb"
      },
      "source": [
        "def print_name2(surname,ID,name):\r\n",
        "    st=f'ชื่อ {name} นามสกุล {surname} รหัส {ID}'\r\n",
        "    print(st)"
      ],
      "execution_count": 17,
      "outputs": []
    },
    {
      "cell_type": "markdown",
      "metadata": {
        "id": "yDm081pmaD5J"
      },
      "source": [
        "ฟังก์ชั่นที่ไม่จำเป็นต้องมีใน Input "
      ]
    },
    {
      "cell_type": "code",
      "metadata": {
        "id": "fJ7Zsu8VaDmz"
      },
      "source": [
        ""
      ],
      "execution_count": null,
      "outputs": []
    },
    {
      "cell_type": "markdown",
      "metadata": {
        "id": "cZIHXwApaoFg"
      },
      "source": [
        "input ของ function ใน python มี2แบบ input ที่จำเป็นต้องใส่กับ input ที่ไม่จำเป็นต้องใส่ (มีค่า default) เราต้องเรียง input ที่จำเป็นต้องใส่ขึ้นก่อน"
      ]
    },
    {
      "cell_type": "code",
      "metadata": {
        "id": "NOp9e2g-bE32"
      },
      "source": [
        "def print_21ines_default(name, surname, ID, grade='F'):\r\n",
        "    st=f'ชื่อ {name} นามสกุล {surname} รหัส {ID}'\r\n",
        "    print(st)\r\n",
        "    st2=f'เกรดวิชา Mulivariate >>> {grade}'\r\n",
        "    print(st2)"
      ],
      "execution_count": 22,
      "outputs": []
    },
    {
      "cell_type": "code",
      "metadata": {
        "colab": {
          "base_uri": "https://localhost:8080/"
        },
        "id": "FR3MtcwccAfh",
        "outputId": "c389f89c-255c-4d3b-a2a1-c61bb24f3f44"
      },
      "source": [
        "print_21ines_default('ชยากร','จันทร์ลุน','623020517-9')"
      ],
      "execution_count": 23,
      "outputs": [
        {
          "output_type": "stream",
          "text": [
            "ชื่อ ชยากร นามสกุล จันทร์ลุน รหัส 623020517-9\n",
            "เกรดวิชา Mulivariate >>> F\n"
          ],
          "name": "stdout"
        }
      ]
    },
    {
      "cell_type": "code",
      "metadata": {
        "colab": {
          "base_uri": "https://localhost:8080/"
        },
        "id": "0PUrI-9mcMbn",
        "outputId": "f6954856-9254-4925-be2f-5d0dac10ede3"
      },
      "source": [
        "print_21ines_default('ชยากร','จันทร์ลุน','623020517-9','A')"
      ],
      "execution_count": 25,
      "outputs": [
        {
          "output_type": "stream",
          "text": [
            "ชื่อ ชยากร นามสกุล จันทร์ลุน รหัส 623020517-9\n",
            "เกรดวิชา Mulivariate >>> A\n"
          ],
          "name": "stdout"
        }
      ]
    },
    {
      "cell_type": "markdown",
      "metadata": {
        "id": "thzZxBZjcbry"
      },
      "source": [
        "เราสามารถเรียกฟังก์ชั่นโดยใช้ชื่อตัวแปรของฟังก์ชั่นช่วยได้"
      ]
    },
    {
      "cell_type": "code",
      "metadata": {
        "id": "sLSdR-SLcxKd"
      },
      "source": [
        ""
      ],
      "execution_count": null,
      "outputs": []
    },
    {
      "cell_type": "markdown",
      "metadata": {
        "id": "tnTge4KIc2MF"
      },
      "source": [
        "HW3 ให้เขียน function คำนวณจำนวนวินาทีจากเวลาต่อไปนี้\r\n",
        "    '14-15-31'\r\n",
        "    '13-00-01'\r\n",
        "    '05-49-44'\r\n",
        "    '00-00-16'\r\n",
        "    และปริ้นให้สวยงาม"
      ]
    },
    {
      "cell_type": "code",
      "metadata": {
        "id": "SQeaNY99dj1m"
      },
      "source": [
        ""
      ],
      "execution_count": null,
      "outputs": []
    }
  ]
}