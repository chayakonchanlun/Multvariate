{
  "nbformat": 4,
  "nbformat_minor": 0,
  "metadata": {
    "colab": {
      "name": "Function_Numpy_Pandas.ipynb",
      "provenance": [],
      "authorship_tag": "ABX9TyPZAPHkEIwjn5ZQC34Us8O6",
      "include_colab_link": true
    },
    "kernelspec": {
      "name": "python3",
      "display_name": "Python 3"
    }
  },
  "cells": [
    {
      "cell_type": "markdown",
      "metadata": {
        "id": "view-in-github",
        "colab_type": "text"
      },
      "source": [
        "<a href=\"https://colab.research.google.com/github/chayakonchanlun/Multvariate/blob/main/Function_Numpy_Pandas.ipynb\" target=\"_parent\"><img src=\"https://colab.research.google.com/assets/colab-badge.svg\" alt=\"Open In Colab\"/></a>"
      ]
    },
    {
      "cell_type": "markdown",
      "metadata": {
        "id": "5OKr1NQ0SnSt"
      },
      "source": [
        "Function"
      ]
    },
    {
      "cell_type": "markdown",
      "metadata": {
        "id": "bXiTfqyzTnJ6"
      },
      "source": [
        "เขียน def ตามด้วยชื่อฟังก์ชั่น"
      ]
    },
    {
      "cell_type": "code",
      "metadata": {
        "id": "HKrl8GouSLkq"
      },
      "source": [
        "def function name(input) :\r\n",
        "\r\n",
        "  do_something with  Input to produce Output\r\n",
        "\r\n",
        "  return Output"
      ],
      "execution_count": null,
      "outputs": []
    },
    {
      "cell_type": "markdown",
      "metadata": {
        "id": "ixTGS4wqTwq-"
      },
      "source": [
        "    function มีส่วนสำคัญทั้งหมด4ส่วน\r\n",
        "    1.บอก python ว่าเราจะเขียนฟังก์ชั่น ชื่ออะไร def function(): (ขาดไม่ได้)\r\n",
        "    2.กำหนดตัวแปรที่จะเป็น input input (ขาดไม่ได้)\r\n",
        "    3.ส่วนประมวลผล do_something with input to get output (ขาดไม่ได้)\r\n",
        "    4.ส่วน output return Output (ขาดไม่ได้) "
      ]
    },
    {
      "cell_type": "code",
      "metadata": {
        "id": "9Qxs_NSTTk8s"
      },
      "source": [
        "def print_name(name,surname,ID):\r\n",
        "    st=f'ชื่อ {name} นามสกุล {surname} ID {ID}'\r\n",
        "    return st\r\n",
        "    print('outside function')    "
      ],
      "execution_count": null,
      "outputs": []
    },
    {
      "cell_type": "markdown",
      "metadata": {
        "id": "erNOO7pYWsdU"
      },
      "source": [
        "การเรียกใช้"
      ]
    },
    {
      "cell_type": "code",
      "metadata": {
        "colab": {
          "base_uri": "https://localhost:8080/",
          "height": 35
        },
        "id": "t9jKhf_9WJ6J",
        "outputId": "558d7586-a1b4-450e-da6d-cfeaadc12596"
      },
      "source": [
        "print_name('ชยากร','จันทร์ลุน','623020517-9')\r\n"
      ],
      "execution_count": null,
      "outputs": [
        {
          "output_type": "execute_result",
          "data": {
            "application/vnd.google.colaboratory.intrinsic+json": {
              "type": "string"
            },
            "text/plain": [
              "'ชื่อ ชยากร นามสกุล จันทร์ลุน ID 623020517-9'"
            ]
          },
          "metadata": {
            "tags": []
          },
          "execution_count": 16
        }
      ]
    },
    {
      "cell_type": "markdown",
      "metadata": {
        "id": "3Yz26daTYJZr"
      },
      "source": [
        "ฟังก์ชั่นไม่จำเป็นต้องมี output "
      ]
    },
    {
      "cell_type": "code",
      "metadata": {
        "id": "tSmvOihBYzRb"
      },
      "source": [
        "def print_name2(surname,ID,name):\r\n",
        "    st=f'ชื่อ {name} นามสกุล {surname} รหัส {ID}'\r\n",
        "    print(st)"
      ],
      "execution_count": null,
      "outputs": []
    },
    {
      "cell_type": "markdown",
      "metadata": {
        "id": "yDm081pmaD5J"
      },
      "source": [
        "ฟังก์ชั่นที่ไม่จำเป็นต้องมีใน Input "
      ]
    },
    {
      "cell_type": "code",
      "metadata": {
        "id": "fJ7Zsu8VaDmz"
      },
      "source": [
        ""
      ],
      "execution_count": null,
      "outputs": []
    },
    {
      "cell_type": "markdown",
      "metadata": {
        "id": "cZIHXwApaoFg"
      },
      "source": [
        "input ของ function ใน python มี2แบบ input ที่จำเป็นต้องใส่กับ input ที่ไม่จำเป็นต้องใส่ (มีค่า default) เราต้องเรียง input ที่จำเป็นต้องใส่ขึ้นก่อน"
      ]
    },
    {
      "cell_type": "code",
      "metadata": {
        "id": "NOp9e2g-bE32"
      },
      "source": [
        "def print_21ines_default(name, surname, ID, grade='F'):\r\n",
        "    st=f'ชื่อ {name} นามสกุล {surname} รหัส {ID}'\r\n",
        "    print(st)\r\n",
        "    st2=f'เกรดวิชา Mulivariate >>> {grade}'\r\n",
        "    print(st2)"
      ],
      "execution_count": null,
      "outputs": []
    },
    {
      "cell_type": "code",
      "metadata": {
        "colab": {
          "base_uri": "https://localhost:8080/"
        },
        "id": "FR3MtcwccAfh",
        "outputId": "c389f89c-255c-4d3b-a2a1-c61bb24f3f44"
      },
      "source": [
        "print_21ines_default('ชยากร','จันทร์ลุน','623020517-9')"
      ],
      "execution_count": null,
      "outputs": [
        {
          "output_type": "stream",
          "text": [
            "ชื่อ ชยากร นามสกุล จันทร์ลุน รหัส 623020517-9\n",
            "เกรดวิชา Mulivariate >>> F\n"
          ],
          "name": "stdout"
        }
      ]
    },
    {
      "cell_type": "code",
      "metadata": {
        "colab": {
          "base_uri": "https://localhost:8080/"
        },
        "id": "0PUrI-9mcMbn",
        "outputId": "f6954856-9254-4925-be2f-5d0dac10ede3"
      },
      "source": [
        "print_21ines_default('ชยากร','จันทร์ลุน','623020517-9','A')"
      ],
      "execution_count": null,
      "outputs": [
        {
          "output_type": "stream",
          "text": [
            "ชื่อ ชยากร นามสกุล จันทร์ลุน รหัส 623020517-9\n",
            "เกรดวิชา Mulivariate >>> A\n"
          ],
          "name": "stdout"
        }
      ]
    },
    {
      "cell_type": "markdown",
      "metadata": {
        "id": "thzZxBZjcbry"
      },
      "source": [
        "เราสามารถเรียกฟังก์ชั่นโดยใช้ชื่อตัวแปรของฟังก์ชั่นช่วยได้"
      ]
    },
    {
      "cell_type": "code",
      "metadata": {
        "id": "sLSdR-SLcxKd"
      },
      "source": [
        ""
      ],
      "execution_count": null,
      "outputs": []
    },
    {
      "cell_type": "markdown",
      "metadata": {
        "id": "tnTge4KIc2MF"
      },
      "source": [
        "    HW3 ให้เขียน function คำนวณจำนวนวินาทีจากเวลาต่อไปนี้\r\n",
        "    '14-15-31'\r\n",
        "    '13-00-01'\r\n",
        "    '05-49-44'\r\n",
        "    '00-00-16'\r\n",
        "    และปริ้นให้สวยงาม"
      ]
    },
    {
      "cell_type": "code",
      "metadata": {
        "id": "SQeaNY99dj1m"
      },
      "source": [
        "def function_time(time):\r\n",
        "    st = time.split('-')\r\n",
        "    answer = int(st[0]) * 3600 + int(st[1]) * 60 +int(st[2])\r\n",
        "    print(f'เวลา {time} คำนวนเป็นจำนวนวินาทีได้เท่ากับ {answer} วินาที ')"
      ],
      "execution_count": null,
      "outputs": []
    },
    {
      "cell_type": "code",
      "metadata": {
        "id": "lhcLS0rwXHIG",
        "colab": {
          "base_uri": "https://localhost:8080/"
        },
        "outputId": "9b26daf1-9343-4169-abb2-647899044f2c"
      },
      "source": [
        "function_time('14-15-31')"
      ],
      "execution_count": null,
      "outputs": [
        {
          "output_type": "stream",
          "text": [
            "เวลา 14-15-31 คำนวนเป็นจำนวนวินาทีได้เท่ากับ 51331 วินาที \n"
          ],
          "name": "stdout"
        }
      ]
    },
    {
      "cell_type": "code",
      "metadata": {
        "id": "6qCIxjJgXL4d",
        "colab": {
          "base_uri": "https://localhost:8080/"
        },
        "outputId": "5a7cb85a-d689-4be0-b38d-3c7460a988e3"
      },
      "source": [
        "function_time('13-00-01')"
      ],
      "execution_count": null,
      "outputs": [
        {
          "output_type": "stream",
          "text": [
            "เวลา 13-00-01 คำนวนเป็นจำนวนวินาทีได้เท่ากับ 46801 วินาที \n"
          ],
          "name": "stdout"
        }
      ]
    },
    {
      "cell_type": "code",
      "metadata": {
        "id": "SVq2S9SoXMCU",
        "colab": {
          "base_uri": "https://localhost:8080/"
        },
        "outputId": "c11f7762-1012-4f6f-d03f-d9c0682b5380"
      },
      "source": [
        "function_time('05-49-44')"
      ],
      "execution_count": null,
      "outputs": [
        {
          "output_type": "stream",
          "text": [
            "เวลา 05-49-44 คำนวนเป็นจำนวนวินาทีได้เท่ากับ 20984 วินาที \n"
          ],
          "name": "stdout"
        }
      ]
    },
    {
      "cell_type": "code",
      "metadata": {
        "id": "VZzsCcfFXML0",
        "colab": {
          "base_uri": "https://localhost:8080/"
        },
        "outputId": "d49468ad-324f-4f78-cce0-7ce0180434cc"
      },
      "source": [
        "function_time('00-00-16')"
      ],
      "execution_count": null,
      "outputs": [
        {
          "output_type": "stream",
          "text": [
            "เวลา 00-00-16 คำนวนเป็นจำนวนวินาทีได้เท่ากับ 16 วินาที \n"
          ],
          "name": "stdout"
        }
      ]
    },
    {
      "cell_type": "code",
      "metadata": {
        "id": "uHbLN3PfXMVV"
      },
      "source": [
        ""
      ],
      "execution_count": null,
      "outputs": []
    },
    {
      "cell_type": "markdown",
      "metadata": {
        "id": "hfPMCU63QDLR"
      },
      "source": [
        "เริ่ม 19/1/2564"
      ]
    },
    {
      "cell_type": "markdown",
      "metadata": {
        "id": "V9Kg9RyQQ6GO"
      },
      "source": [
        "~panda~"
      ]
    },
    {
      "cell_type": "markdown",
      "metadata": {
        "id": "04cpHiCwW0TW"
      },
      "source": [
        "    Numpy-> package สำหรับจัดการกับ Array ที่เป็นตัวเลข (Matrix)\r\n",
        "    Num+py->Number-Numerical+python\r\n",
        "\r\n",
        "    การใช้ package\r\n",
        "    1.'''import''' '''ชื่อ package''' #เรียกใช้ package\r\n",
        "    2.'''ชื่อ package.ชื่อฟังก์ชัน #เรียกใช้ function"
      ]
    },
    {
      "cell_type": "code",
      "metadata": {
        "id": "yRSkwdZ2SB8h"
      },
      "source": [
        "import numpy"
      ],
      "execution_count": 2,
      "outputs": []
    },
    {
      "cell_type": "markdown",
      "metadata": {
        "id": "1oZH1QNTUHdR"
      },
      "source": [
        "data structure->array"
      ]
    },
    {
      "cell_type": "markdown",
      "metadata": {
        "id": "57WlmOjAUPHL"
      },
      "source": [
        "สร้าง array (numpy array)"
      ]
    },
    {
      "cell_type": "code",
      "metadata": {
        "id": "hKW48iE8SFvf",
        "outputId": "758e5390-68ca-4135-e677-05ff37b508cd",
        "colab": {
          "base_uri": "https://localhost:8080/"
        }
      },
      "source": [
        "mat_ex1= numpy.array([[5.2,3.0,4.5],[9.1,0.1,0.3]])\r\n",
        "print(mat_ex1)"
      ],
      "execution_count": 3,
      "outputs": [
        {
          "output_type": "stream",
          "text": [
            "[[5.2 3.  4.5]\n",
            " [9.1 0.1 0.3]]\n"
          ],
          "name": "stdout"
        }
      ]
    },
    {
      "cell_type": "markdown",
      "metadata": {
        "id": "8G8gNgUXUzQp"
      },
      "source": [
        "ชี้ค่าใน numpy array"
      ]
    },
    {
      "cell_type": "code",
      "metadata": {
        "id": "2NKt0tO1UwcI",
        "outputId": "fb1f24f0-366d-4f38-e17b-52c9fc052f67",
        "colab": {
          "base_uri": "https://localhost:8080/"
        }
      },
      "source": [
        "mat_ex1[1,1] #[แถว,หลัก]"
      ],
      "execution_count": 4,
      "outputs": [
        {
          "output_type": "execute_result",
          "data": {
            "text/plain": [
              "0.1"
            ]
          },
          "metadata": {
            "tags": []
          },
          "execution_count": 4
        }
      ]
    },
    {
      "cell_type": "markdown",
      "metadata": {
        "id": "--MLxgiPVyyY"
      },
      "source": [
        "ถ้าไม่มี numpy array"
      ]
    },
    {
      "cell_type": "code",
      "metadata": {
        "id": "tP_NNWs-Vm_K",
        "outputId": "c2a681d1-f556-4e27-b810-899a13b29624",
        "colab": {
          "base_uri": "https://localhost:8080/"
        }
      },
      "source": [
        "list_ex1=([[5.2,3.0,4.5],[9.1,0.1,0.3]])\r\n",
        "print(list_ex1)"
      ],
      "execution_count": 5,
      "outputs": [
        {
          "output_type": "stream",
          "text": [
            "[[5.2, 3.0, 4.5], [9.1, 0.1, 0.3]]\n"
          ],
          "name": "stdout"
        }
      ]
    },
    {
      "cell_type": "code",
      "metadata": {
        "id": "PqfwdGH4WBDi",
        "outputId": "46d7c21a-c8b2-4979-ad49-af9632e982a8",
        "colab": {
          "base_uri": "https://localhost:8080/"
        }
      },
      "source": [
        "list_ex1[1][1]"
      ],
      "execution_count": 10,
      "outputs": [
        {
          "output_type": "execute_result",
          "data": {
            "text/plain": [
              "0.1"
            ]
          },
          "metadata": {
            "tags": []
          },
          "execution_count": 10
        }
      ]
    },
    {
      "cell_type": "code",
      "metadata": {
        "id": "5kLI5L69WoD-",
        "outputId": "49aa75e5-0f7a-4ef4-b74b-68ce9d64aec1",
        "colab": {
          "base_uri": "https://localhost:8080/"
        }
      },
      "source": [
        "print(list_ex1)\r\n",
        "a=list_ex1[1]\r\n",
        "print(a)\r\n",
        "print(a[1])"
      ],
      "execution_count": 12,
      "outputs": [
        {
          "output_type": "stream",
          "text": [
            "[[5.2, 3.0, 4.5], [9.1, 0.1, 0.3]]\n",
            "[9.1, 0.1, 0.3]\n",
            "0.1\n"
          ],
          "name": "stdout"
        }
      ]
    },
    {
      "cell_type": "markdown",
      "metadata": {
        "id": "e4ZE971oX7e-"
      },
      "source": [
        "    Matrix Operation\r\n",
        "    data 2 แบบ -> matrix (2D array), scalar (ตัวเลขค่าคงที่)"
      ]
    },
    {
      "cell_type": "code",
      "metadata": {
        "id": "gw-ww_GUXcv2",
        "outputId": "919b1c6c-3b1d-4ee7-bf0f-e66925261dfc",
        "colab": {
          "base_uri": "https://localhost:8080/"
        }
      },
      "source": [
        "mat_ex1= numpy.array([[5.2,3.0,4.5],[9.1,0.1,0.3]])\r\n",
        "print(mat_ex1)\r\n",
        "mat_ex2= numpy.array([[2,3.7,5.9],[91,1.5,7.3]])\r\n",
        "print(mat_ex2)"
      ],
      "execution_count": 13,
      "outputs": [
        {
          "output_type": "stream",
          "text": [
            "[[5.2 3.  4.5]\n",
            " [9.1 0.1 0.3]]\n",
            "[[ 2.   3.7  5.9]\n",
            " [91.   1.5  7.3]]\n"
          ],
          "name": "stdout"
        }
      ]
    },
    {
      "cell_type": "markdown",
      "metadata": {
        "id": "HlYiLQdjZDiQ"
      },
      "source": [
        "บวกกับลบ matrix เอาตัวเลขตัวแหน่งเดียวกันมาบวกกัน\r\n",
        "(หน้าตาของ matrix \r\n",
        "\r\n",
        "---\r\n",
        "\r\n"
      ]
    },
    {
      "cell_type": "markdown",
      "metadata": {
        "id": "177Hmsk7Zist"
      },
      "source": [
        "mat_ex0 = numpy.array(["
      ]
    },
    {
      "cell_type": "code",
      "metadata": {
        "id": "R2m27yCCY0Fj",
        "outputId": "ae818cb6-3ac3-440d-aa53-428f3d07af18",
        "colab": {
          "base_uri": "https://localhost:8080/"
        }
      },
      "source": [
        "mat_ex3=mat_ex1+mat_ex2 \r\n",
        "print(mat_ex3)\r\n",
        "mat_ex4=mat_ex1-mat_ex2 \r\n",
        "print(mat_ex4)"
      ],
      "execution_count": 14,
      "outputs": [
        {
          "output_type": "stream",
          "text": [
            "[[  7.2   6.7  10.4]\n",
            " [100.1   1.6   7.6]]\n",
            "[[  3.2  -0.7  -1.4]\n",
            " [-81.9  -1.4  -7. ]]\n"
          ],
          "name": "stdout"
        }
      ]
    },
    {
      "cell_type": "markdown",
      "metadata": {
        "id": "cANoSmvXZ9E4"
      },
      "source": [
        "การตรวจสอบขนาดงของ marix "
      ]
    },
    {
      "cell_type": "code",
      "metadata": {
        "id": "bIBWVypWZYF1",
        "outputId": "7dd977d1-fe77-4a85-8ba3-68f658dd90d1",
        "colab": {
          "base_uri": "https://localhost:8080/"
        }
      },
      "source": [
        "mat_ex3.shape"
      ],
      "execution_count": 15,
      "outputs": [
        {
          "output_type": "execute_result",
          "data": {
            "text/plain": [
              "(2, 3)"
            ]
          },
          "metadata": {
            "tags": []
          },
          "execution_count": 15
        }
      ]
    },
    {
      "cell_type": "code",
      "metadata": {
        "id": "WQl2yGYaaRFl",
        "outputId": "c0c7a816-0ae0-4ea3-a076-621b6529bfe8",
        "colab": {
          "base_uri": "https://localhost:8080/"
        }
      },
      "source": [
        "mat_ex3.shape[0]"
      ],
      "execution_count": 16,
      "outputs": [
        {
          "output_type": "execute_result",
          "data": {
            "text/plain": [
              "2"
            ]
          },
          "metadata": {
            "tags": []
          },
          "execution_count": 16
        }
      ]
    },
    {
      "cell_type": "markdown",
      "metadata": {
        "id": "ljgw-Fjoa7li"
      },
      "source": [
        "## คูณ matrix (แถวคูณหลัก)\r\n",
        "    (หลักของตัวข้างหน้า ต้องเท่ากับแถวของ matrix ตัวข้างหลัง)\r\n",
        "\r\n",
        "    dot product (AAA,x),(x,ZZZ) = (AAA,ZZZ)"
      ]
    },
    {
      "cell_type": "code",
      "metadata": {
        "id": "fD9sIGmdazOn",
        "outputId": "d3a85255-9c1d-4b83-9ea3-64a3d07fa73d",
        "colab": {
          "base_uri": "https://localhost:8080/"
        }
      },
      "source": [
        " mat_ex1*mat_ex2"
      ],
      "execution_count": 17,
      "outputs": [
        {
          "output_type": "execute_result",
          "data": {
            "text/plain": [
              "array([[1.040e+01, 1.110e+01, 2.655e+01],\n",
              "       [8.281e+02, 1.500e-01, 2.190e+00]])"
            ]
          },
          "metadata": {
            "tags": []
          },
          "execution_count": 17
        }
      ]
    },
    {
      "cell_type": "code",
      "metadata": {
        "id": "UY-1xPGEbugc"
      },
      "source": [
        "numpy.dot(mat_ex1,mat_ex2)"
      ],
      "execution_count": null,
      "outputs": []
    },
    {
      "cell_type": "code",
      "metadata": {
        "id": "dzFcPo21flFv",
        "outputId": "7f04a00e-1c5b-4947-9866-835064459959",
        "colab": {
          "base_uri": "https://localhost:8080/"
        }
      },
      "source": [
        "print(mat_ex1)\r\n",
        "print(mat_ex1.shape)\r\n",
        "print(mat_ex2)\r\n",
        "print(mat_ex2.shape)"
      ],
      "execution_count": 18,
      "outputs": [
        {
          "output_type": "stream",
          "text": [
            "[[5.2 3.  4.5]\n",
            " [9.1 0.1 0.3]]\n",
            "(2, 3)\n",
            "[[ 2.   3.7  5.9]\n",
            " [91.   1.5  7.3]]\n",
            "(2, 3)\n"
          ],
          "name": "stdout"
        }
      ]
    },
    {
      "cell_type": "markdown",
      "metadata": {
        "id": "BCoXj9dVf74Q"
      },
      "source": [
        "# Transpose กลับแถวเป็นหลักกลับหลักเป็นแถว\r\n",
        "matrix.T\r\n",
        "\r\n"
      ]
    },
    {
      "cell_type": "code",
      "metadata": {
        "id": "MlTCLqTtfvLX",
        "outputId": "829eb72f-f5f1-45f4-867b-912ac80f4ad4",
        "colab": {
          "base_uri": "https://localhost:8080/"
        }
      },
      "source": [
        "numpy.dot(mat_ex1,mat_ex2.T) #(2,3).(3,2)"
      ],
      "execution_count": 19,
      "outputs": [
        {
          "output_type": "execute_result",
          "data": {
            "text/plain": [
              "array([[ 48.05, 510.55],\n",
              "       [ 20.34, 830.44]])"
            ]
          },
          "metadata": {
            "tags": []
          },
          "execution_count": 19
        }
      ]
    },
    {
      "cell_type": "code",
      "metadata": {
        "id": "8PSYPWlXgdxk",
        "outputId": "3aeda3a0-a555-4796-e64e-85c47d655d8e",
        "colab": {
          "base_uri": "https://localhost:8080/"
        }
      },
      "source": [
        "numpy.dot(mat_ex1.T,mat_ex2) #(3,2).(3,2)"
      ],
      "execution_count": 22,
      "outputs": [
        {
          "output_type": "execute_result",
          "data": {
            "text/plain": [
              "array([[838.5 ,  32.89,  97.11],\n",
              "       [ 15.1 ,  11.25,  18.43],\n",
              "       [ 36.3 ,  17.1 ,  28.74]])"
            ]
          },
          "metadata": {
            "tags": []
          },
          "execution_count": 22
        }
      ]
    },
    {
      "cell_type": "markdown",
      "metadata": {
        "id": "Rzc3kOpbinjW"
      },
      "source": [
        "    ##HW4 อธิบายการหา Determinant และ Inverse matrix (รูปและคำอธิบาย)"
      ]
    },
    {
      "cell_type": "code",
      "metadata": {
        "id": "biDA_I6phyzF"
      },
      "source": [
        ""
      ],
      "execution_count": null,
      "outputs": []
    }
  ]
}