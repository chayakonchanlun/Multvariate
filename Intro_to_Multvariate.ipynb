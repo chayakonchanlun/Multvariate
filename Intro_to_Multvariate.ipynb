{
  "nbformat": 4,
  "nbformat_minor": 0,
  "metadata": {
    "colab": {
      "name": "Intro to Multvariate.ipynb",
      "provenance": [],
      "authorship_tag": "ABX9TyOc8DR4zUmU4IuFuEUYFTuZ",
      "include_colab_link": true
    },
    "kernelspec": {
      "name": "python3",
      "display_name": "Python 3"
    }
  },
  "cells": [
    {
      "cell_type": "markdown",
      "metadata": {
        "id": "view-in-github",
        "colab_type": "text"
      },
      "source": [
        "<a href=\"https://colab.research.google.com/github/chayakonchanlun/Multvariate/blob/main/Intro_to_Multvariate.ipynb\" target=\"_parent\"><img src=\"https://colab.research.google.com/assets/colab-badge.svg\" alt=\"Open In Colab\"/></a>"
      ]
    },
    {
      "cell_type": "markdown",
      "metadata": {
        "id": "HEmdruGJiC8u"
      },
      "source": [
        "ชยากร จันทร์ลุน 623020517-9"
      ]
    },
    {
      "cell_type": "code",
      "metadata": {
        "id": "gEbugDQghVhw"
      },
      "source": [
        ""
      ],
      "execution_count": null,
      "outputs": []
    },
    {
      "cell_type": "code",
      "metadata": {
        "colab": {
          "base_uri": "https://localhost:8080/"
        },
        "id": "9Z9E0wBckVA9",
        "outputId": "be48af81-6889-482a-d4d1-cfcda2390189"
      },
      "source": [
        "print('ชยากร') #single "
      ],
      "execution_count": null,
      "outputs": [
        {
          "output_type": "stream",
          "text": [
            "ชยากร\n"
          ],
          "name": "stdout"
        }
      ]
    },
    {
      "cell_type": "code",
      "metadata": {
        "id": "fu-f1yxzkbbN"
      },
      "source": [
        ""
      ],
      "execution_count": null,
      "outputs": []
    }
  ]
}