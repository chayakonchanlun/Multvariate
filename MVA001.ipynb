{
  "nbformat": 4,
  "nbformat_minor": 0,
  "metadata": {
    "colab": {
      "name": "MVA001.ipynb",
      "provenance": [],
      "authorship_tag": "ABX9TyO7q2fFQhcp11o9kfg5K5bn",
      "include_colab_link": true
    },
    "kernelspec": {
      "name": "python3",
      "display_name": "Python 3"
    }
  },
  "cells": [
    {
      "cell_type": "markdown",
      "metadata": {
        "id": "view-in-github",
        "colab_type": "text"
      },
      "source": [
        "<a href=\"https://colab.research.google.com/github/chayakonchanlun/Multvariate/blob/main/MVA001.ipynb\" target=\"_parent\"><img src=\"https://colab.research.google.com/assets/colab-badge.svg\" alt=\"Open In Colab\"/></a>"
      ]
    },
    {
      "cell_type": "markdown",
      "metadata": {
        "id": "xLQXaiw7S--v"
      },
      "source": [
        "Scalar,Vector,Matrix"
      ]
    },
    {
      "cell_type": "code",
      "metadata": {
        "id": "kwSxLjT0T5-0"
      },
      "source": [
        "1 import numpy as np"
      ],
      "execution_count": null,
      "outputs": []
    },
    {
      "cell_type": "code",
      "metadata": {
        "id": "e4hbfZupS0js"
      },
      "source": [
        "1 Scalar_a = 10 #scalar\r\n",
        "2 print(scalar_a)"
      ],
      "execution_count": null,
      "outputs": []
    },
    {
      "cell_type": "code",
      "metadata": {
        "id": "v8iAV-SvTnTE"
      },
      "source": [
        "1 vector_b = np.zeros([2,1])\r\n",
        "2 vector_b[0,0] = 1\r\n",
        "3 vector_b[1,0] = 3\r\n",
        "4 print(vector_b)\r\n",
        "5 print(vector_b.shape)"
      ],
      "execution_count": null,
      "outputs": []
    },
    {
      "cell_type": "code",
      "metadata": {
        "id": "sG0S-cOPV0-1"
      },
      "source": [
        "vector_c = np.array"
      ],
      "execution_count": null,
      "outputs": []
    },
    {
      "cell_type": "code",
      "metadata": {
        "id": "1RKo4BKaUvY8"
      },
      "source": [
        "1 from matplotlib import pyport as plt"
      ],
      "execution_count": null,
      "outputs": []
    },
    {
      "cell_type": "code",
      "metadata": {
        "id": "fYKqjML_VeFs"
      },
      "source": [
        "1 plt.plot(vector_b[0,0],vector_b[1,0]),'or')"
      ],
      "execution_count": null,
      "outputs": []
    }
  ]
}